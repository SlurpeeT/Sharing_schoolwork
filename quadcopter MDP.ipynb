{
 "cells": [
  {
   "cell_type": "code",
   "execution_count": 1,
   "metadata": {},
   "outputs": [],
   "source": [
    "import numpy as np;\n",
    "from numpy import linalg as LA\n",
    "import seaborn as sns; sns.set()\n",
    "from random import choices\n",
    "import matplotlib.pyplot as plt"
   ]
  },
  {
   "cell_type": "code",
   "execution_count": 2,
   "metadata": {},
   "outputs": [],
   "source": [
    "#givens\n",
    "n=20\n",
    "sigma = 10\n",
    "discount_factor = 0.95\n",
    "eye = np.array([15,15])\n",
    "goal = (19,9)\n",
    "start = (9,19)"
   ]
  },
  {
   "cell_type": "code",
   "execution_count": 3,
   "metadata": {},
   "outputs": [],
   "source": [
    "#initialize values, storm influence (storm_inf), state space, and reward arrays.\n",
    "values=np.zeros([n,n])\n",
    "storm_inf=np.zeros([n,n])\n",
    "reward = np.zeros([n,n])\n",
    "reward[goal[0], goal[1]] = 1\n",
    "states = []\n",
    "for i in range(n):\n",
    "    for j in range(n):\n",
    "        states.append((i,j))"
   ]
  },
  {
   "cell_type": "code",
   "execution_count": 4,
   "metadata": {},
   "outputs": [],
   "source": [
    "#calculate p(x) for all locations on the grid, store in storm_inf\n",
    "for i in range(0,n):\n",
    "    for j in range(0,n):\n",
    "        storm_inf[i][j] = np.exp(-((LA.norm(np.array([i,j])-eye))**2)/(2*sigma**2))"
   ]
  },
  {
   "cell_type": "code",
   "execution_count": 5,
   "metadata": {},
   "outputs": [],
   "source": [
    "def next_pos(state,action,direction,n=n):\n",
    "    \"\"\"\n",
    "    Args:\n",
    "    n is size of board\n",
    "    state is position on grid (x1,x2)\n",
    "    action is the called for movement\n",
    "    direction is the actual direction of movement\n",
    "    0:up    (x1,x2)->(x1-1, x2  )\n",
    "    1:down  (x1,x2)->(x1+1, x2  )\n",
    "    2:left  (x1,x2)->(x1,   x2-1)\n",
    "    3:right (x1,x2)->(x1,   x2+1)  \n",
    "    \n",
    "    given a direction and an action (up, down, left, right)\n",
    "    return the new state in that direction with the probability of moving in that direction\n",
    "    up: (x1,x2) -> (x1-1, x2)\n",
    "    down: (x1,x2) -> (x1+1, x2)\n",
    "    left: (x1,x2) -> (x1, x2-1)\n",
    "    right: (x1,x2) -> (x1, x2+1)\n",
    "    \n",
    "    If the action takes you beyond the boundary of the board, do nothing\"\"\"\n",
    "    \n",
    "    x1=state[0]\n",
    "    x2=state[1]\n",
    "    x1_n = 0 \n",
    "    x2_n = 0\n",
    "    prob = 0\n",
    "    if [x1,x2] == goal:\n",
    "        x1_n,x2_n=x1,x2\n",
    "        prob = 0.25\n",
    "    else:\n",
    "        if direction == 0:\n",
    "            x1_n = max(x1 - 1,0)\n",
    "            x2_n = x2\n",
    "        if direction == 1:\n",
    "            x1_n = min(x1 + 1, n-1)\n",
    "            x2_n = x2    \n",
    "        if direction == 2:\n",
    "            x1_n = x1\n",
    "            x2_n = max(x2 - 1,0)\n",
    "        if direction == 3:\n",
    "            x1_n = x1 \n",
    "            x2_n = min(x2 + 1,n-1)\n",
    "        prob = get_prob((x1,x2), action, direction)\n",
    "    return (x1_n, x2_n), prob"
   ]
  },
  {
   "cell_type": "code",
   "execution_count": 6,
   "metadata": {},
   "outputs": [],
   "source": [
    "def get_prob(state,a,d,p=storm_inf):\n",
    "    \"\"\"\n",
    "    Args:\n",
    "    state: position on grid (x1,x2)\n",
    "    a: direction [0,1,2,3] called for by the action [up, down, left, right] (used to check probability function)\n",
    "    d: direction [0,1,2,3] of movement\n",
    "    p: probability p(x) outlined in problem formulation\n",
    "    \n",
    "    returns:\n",
    "    prob: probability of ending up in the direction d given a specified action a\n",
    "    \"\"\"\n",
    "    x1=state[0]\n",
    "    x2=state[1]\n",
    "    prob=0\n",
    "    if d==a:\n",
    "        prob = p[x1][x2]/4 + (1-p[x1][x2])\n",
    "    else:\n",
    "        prob = p[x1][x2]/4\n",
    "    return prob\n",
    "    "
   ]
  },
  {
   "cell_type": "code",
   "execution_count": 7,
   "metadata": {},
   "outputs": [],
   "source": [
    "def next_state_value(V, a, s, gamma=discount_factor):\n",
    "    \"\"\"\n",
    "    Args:\n",
    "    V: value function at current step\n",
    "    a: action\n",
    "    s: current state\n",
    "    \n",
    "    returns:\n",
    "    Value at next state\n",
    "    \"\"\"\n",
    "    dir_value=0\n",
    "    for d in range(4):\n",
    "        next_state, prob = next_pos(s,a,d)\n",
    "        new_reward = reward[next_state[0]][next_state[1]]\n",
    "        new_value = V[next_state[0]][next_state[1]]\n",
    "        dir_value+=prob*(new_reward+gamma*new_value)\n",
    "    #dir_value = min(dir_value, 1)\n",
    "    return dir_value"
   ]
  },
  {
   "cell_type": "code",
   "execution_count": 8,
   "metadata": {},
   "outputs": [],
   "source": [
    "def update_value_function(v,states=states):\n",
    "    v_new = np.zeros([v.shape[0],v.shape[1]])\n",
    "    p_new = np.zeros([v.shape[0],v.shape[1]])\n",
    "    for state in states:\n",
    "        if state == (19,9):\n",
    "            v_new[19][9]=1\n",
    "            continue\n",
    "        action_value = np.zeros(4)\n",
    "        for a in range(4):\n",
    "            action_value[a]=next_state_value(v,a,state)\n",
    "        best_value = np.max(action_value)\n",
    "        best_action=np.argmax(action_value)\n",
    "        v_new[state[0]][state[1]] = best_value\n",
    "        p_new[state[0]][state[1]] = best_action\n",
    "    return v_new, p_new"
   ]
  },
  {
   "cell_type": "code",
   "execution_count": 9,
   "metadata": {},
   "outputs": [],
   "source": [
    "def value_iter(v, epsilon,gamma):\n",
    "    v_current=v\n",
    "    delta = 1\n",
    "    while delta>epsilon:\n",
    "        v_new, p_new=update_value_function(v_current)\n",
    "        delta=LA.norm(v_new-v_current)\n",
    "        v_current = v_new\n",
    "    return v_new, p_new"
   ]
  },
  {
   "cell_type": "code",
   "execution_count": 10,
   "metadata": {},
   "outputs": [
    {
     "name": "stdout",
     "output_type": "stream",
     "text": [
      "[[0.18463058 0.18267581 0.17990018 0.17529235 0.1677904  0.15763153\n",
      "  0.14780316 0.13828365 0.12906865 0.1201483  0.11152986 0.10321421\n",
      "  0.09521797 0.08754903 0.08022885 0.07326693 0.06668429 0.06048985\n",
      "  0.05473467 0.04979321]\n",
      " [0.19550736 0.1935692  0.19085152 0.1862294  0.1784959  0.16751631\n",
      "  0.15623537 0.14536995 0.13490565 0.12484928 0.11519303 0.10595322\n",
      "  0.09712763 0.0887402  0.08079073 0.07330594 0.06628221 0.05974782\n",
      "  0.05373878 0.04870835]\n",
      " [0.20751334 0.20568487 0.20315523 0.1986489  0.19080918 0.1792681\n",
      "  0.1666439  0.15442797 0.14263571 0.13127165 0.12036495 0.10992737\n",
      "  0.09999809 0.09059017 0.08174613 0.07347146 0.06580284 0.05873753\n",
      "  0.05236404 0.0471674 ]\n",
      " [0.22048325 0.21883453 0.21659654 0.21232533 0.20447862 0.19243906\n",
      "  0.17827947 0.16454257 0.15123358 0.13838476 0.1260206  0.11419587\n",
      "  0.10294767 0.092344   0.08241891 0.07323401 0.06479984 0.05716402\n",
      "  0.05039034 0.0450689 ]\n",
      " [0.23452065 0.23313738 0.23132596 0.2274363  0.21972832 0.20727872\n",
      "  0.19135398 0.17582671 0.16072805 0.14609154 0.13198549 0.1184742\n",
      "  0.10565845 0.09361692 0.08245474 0.07222409 0.06299133 0.05476606\n",
      "  0.04766698 0.04228126]\n",
      " [0.2497469  0.24874247 0.24752772 0.2442195  0.23684671 0.22417698\n",
      "  0.20677166 0.18896456 0.17158425 0.15470013 0.13839402 0.12279719\n",
      "  0.10804178 0.09429607 0.08168389 0.07032695 0.06026008 0.05152368\n",
      "  0.0441853  0.03886492]\n",
      " [0.26629417 0.26581304 0.26541644 0.26294621 0.25618681 0.24356223\n",
      "  0.22511176 0.20443802 0.18421121 0.16450357 0.14545901 0.12725964\n",
      "  0.1101527  0.0943695  0.0801354  0.067567   0.05672364 0.04756759\n",
      "  0.04015525 0.03501315]\n",
      " [0.28430142 0.28452986 0.28522903 0.28393378 0.27815798 0.2659498\n",
      "  0.24672292 0.22278544 0.19915396 0.17599886 0.15355503 0.13216053\n",
      "  0.11219123 0.09404174 0.07799183 0.0642029  0.05264928 0.04323593\n",
      "  0.03589566 0.03105624]\n",
      " [0.30391243 0.3050849  0.30722973 0.30753599 0.30324639 0.29198603\n",
      "  0.27250339 0.24603943 0.21788571 0.19025947 0.16350214 0.13810376\n",
      "  0.1146673  0.09373552 0.07569752 0.0606569  0.04850018 0.03895556\n",
      "  0.03182945 0.02735866]\n",
      " [0.32526972 0.32768105 0.33170014 0.33414679 0.33200044 0.32244325\n",
      "  0.30345795 0.27524974 0.2417414  0.20860716 0.1764461  0.14607577\n",
      "  0.11839132 0.09418508 0.07389182 0.05754586 0.04481491 0.03522428\n",
      "  0.02836637 0.02428094]\n",
      " [0.34850932 0.35252336 0.3589365  0.36418287 0.36503016 0.35821194\n",
      "  0.34083598 0.31186109 0.27382535 0.23342566 0.19431649 0.15761989\n",
      "  0.12463846 0.0964164  0.07344968 0.05557661 0.04219001 0.03250507\n",
      "  0.02587961 0.02212166]\n",
      " [0.37375206 0.3798145  0.38923415 0.39807131 0.40297404 0.40029304\n",
      "  0.38615324 0.35795973 0.31661491 0.26771538 0.21980485 0.17498098\n",
      "  0.13517159 0.10181539 0.07541314 0.05554774 0.04120118 0.03122087\n",
      "  0.02466798 0.0211191 ]\n",
      " [0.40109621 0.40974404 0.42287611 0.4362181  0.44646118 0.44972884\n",
      "  0.44115755 0.41617902 0.37335326 0.31703537 0.25712636 0.20136242\n",
      "  0.15240864 0.11213267 0.08103665 0.05831165 0.04242498 0.03174265\n",
      "  0.02498059 0.0214644 ]\n",
      " [0.43060823 0.44248224 0.46011289 0.47897896 0.49604201 0.50750196\n",
      "  0.50769839 0.48973313 0.44852662 0.38560594 0.31152849 0.24094854\n",
      "  0.17945518 0.1295705  0.09179161 0.0648243  0.04644908 0.03442703\n",
      "  0.02703861 0.02333193]\n",
      " [0.46231674 0.47817152 0.50114786 0.52662155 0.55211678 0.57436687\n",
      "  0.58747648 0.5822363  0.54828013 0.48102846 0.39032744 0.29924491\n",
      "  0.22027284 0.15680556 0.10940888 0.07614542 0.05390024 0.03962524\n",
      "  0.03104173 0.02690616]\n",
      " [0.4962075  0.51692464 0.54612094 0.5793003  0.61486421 0.65066231\n",
      "  0.68160168 0.69713776 0.680262   0.61428029 0.50207004 0.38291214\n",
      "  0.27948875 0.19683255 0.13571841 0.09335184 0.06537427 0.04763417\n",
      "  0.0370815  0.03205947]\n",
      " [0.53222364 0.55882442 0.59510164 0.63704206 0.68421321 0.73615638\n",
      "  0.79004247 0.83659278 0.85300043 0.80152542 0.65820961 0.49947859\n",
      "  0.36160116 0.25216424 0.17207406 0.11713216 0.0811831  0.05853909\n",
      "  0.04509503 0.03861317]\n",
      " [0.57026904 0.60393111 0.64808533 0.69975492 0.75987153 0.83004742\n",
      "  0.91116183 0.99969378 1.07375585 1.06773098 0.87038981 0.65416825\n",
      "  0.46800285 0.32259881 0.21782176 0.14680903 0.10072379 0.07181297\n",
      "  0.05460624 0.04612977]\n",
      " [0.61021759 0.65229144 0.70499787 0.76724931 0.84141597 0.93120145\n",
      "  1.04178037 1.18041492 1.34285608 1.45613996 1.14337493 0.84069732\n",
      "  0.58960506 0.40032613 0.26728635 0.17848593 0.1213382  0.08559668\n",
      "  0.06425796 0.05359923]\n",
      " [0.64866655 0.69647649 0.75682006 0.82938919 0.91809987 1.02935282\n",
      "  1.17331825 1.36687801 1.63965125 1.         1.45840713 1.0155065\n",
      "  0.69132972 0.46178066 0.30538488 0.20255947 0.13683314 0.09580335\n",
      "  0.0712298  0.05880239]]\n"
     ]
    }
   ],
   "source": [
    "value,policy=value_iter(values,.01,discount_factor)\n",
    "print(value)"
   ]
  },
  {
   "cell_type": "code",
   "execution_count": 11,
   "metadata": {},
   "outputs": [
    {
     "data": {
      "image/png": "[encoded data removed]",
      "text/plain": [
       "<Figure size 432x288 with 2 Axes>"
      ]
     },
     "metadata": {},
     "output_type": "display_data"
    }
   ],
   "source": [
    "heatmap = sns.heatmap(value, cmap=\"YlGnBu\")\n",
    "fig=heatmap.get_figure()\n",
    "fig.savefig('heatmap.png')"
   ]
  },
  {
   "cell_type": "code",
   "execution_count": null,
   "metadata": {},
   "outputs": [],
   "source": [
    "print(policy)"
   ]
  },
  {
   "cell_type": "code",
   "execution_count": 12,
   "metadata": {},
   "outputs": [],
   "source": [
    "def compute_trajectory(p, start = start, goal = goal):\n",
    "    traj = []\n",
    "    state = start\n",
    "    while state != goal:\n",
    "        density = [0,0,0,0]\n",
    "        new_state = [0,0,0,0]\n",
    "        action = p[state[0]][state[1]]\n",
    "        for d in range(4):\n",
    "            new_state[d], density[d] = next_pos(state, action, d)\n",
    "        next_state = choices(new_state, density)\n",
    "        traj.append([state,action,next_state[0]])\n",
    "        state = next_state[0]\n",
    "    return traj"
   ]
  },
  {
   "cell_type": "code",
   "execution_count": 14,
   "metadata": {},
   "outputs": [],
   "source": [
    "traj=compute_trajectory(policy)\n",
    "x1=np.zeros(len(traj))\n",
    "x2=np.zeros(len(traj))\n",
    "for t in range(len(traj)):\n",
    "    x1[t]=traj[t][0][0]\n",
    "    x2[t]=traj[t][0][1]\n"
   ]
  },
  {
   "cell_type": "code",
   "execution_count": 15,
   "metadata": {},
   "outputs": [
    {
     "data": {
      "image/png": "[encoded data removed]",
      "text/plain": [
       "<Figure size 432x288 with 1 Axes>"
      ]
     },
     "metadata": {},
     "output_type": "display_data"
    }
   ],
   "source": [
    "plt.plot(x1,x2)\n",
    "plt.title('Drone Trajectory')\n",
    "plt.xticks(np.arange(0,20, step=1.0))\n",
    "plt.ylim(19,0)\n",
    "plt.savefig(\"Drone Trajectory1.png\",bbox_inches=\"tight\",dpi=600) \n",
    "plt.show() "
   ]
  },
  {
   "cell_type": "code",
   "execution_count": null,
   "metadata": {},
   "outputs": [],
   "source": []
  }
 ],
 "metadata": {
  "kernelspec": {
   "display_name": "Python 3",
   "language": "python",
   "name": "python3"
  },
  "language_info": {
   "codemirror_mode": {
    "name": "ipython",
    "version": 3
   },
   "file_extension": ".py",
   "mimetype": "text/x-python",
   "name": "python",
   "nbconvert_exporter": "python",
   "pygments_lexer": "ipython3",
   "version": "3.7.6"
  }
 },
 "nbformat": 4,
 "nbformat_minor": 4
}
